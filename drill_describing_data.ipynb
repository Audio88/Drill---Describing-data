{
 "cells": [
  {
   "cell_type": "code",
   "execution_count": 1,
   "metadata": {},
   "outputs": [
    {
     "name": "stdout",
     "output_type": "stream",
     "text": [
      "     name  age\n",
      "0    Greg   14\n",
      "1  Marcia   12\n",
      "2   Peter   11\n",
      "3     Jan   10\n",
      "4   Bobby    8\n",
      "5   Cindy    6\n",
      "6  Oliver    8\n"
     ]
    }
   ],
   "source": [
    "import pandas as pd\n",
    "import numpy as np\n",
    "import statistics\n",
    "import matplotlib.pyplot as plt\n",
    "%matplotlib inline\n",
    "\n",
    "df = pd.DataFrame()\n",
    "df['name'] = ['Greg', 'Marcia', 'Peter', 'Jan', 'Bobby', 'Cindy', 'Oliver']\n",
    "df['age'] = [14, 12, 11, 10, 8, 6, 8]"
   ]
  },
  {
   "cell_type": "code",
   "execution_count": 2,
   "metadata": {},
   "outputs": [
    {
     "name": "stdout",
     "output_type": "stream",
     "text": [
      "9.857142857142858\n",
      "10.0\n",
      "8\n",
      "7.476190476190475\n",
      "2.531435020952764\n",
      "0.956792503652\n"
     ]
    }
   ],
   "source": [
    "print(np.mean(df['age']))        #average\n",
    "print(np.median(df['age']))      #median\n",
    "print(statistics.mode(df['age']))#mode\n",
    "print(df['age'].var())           #variance\n",
    "print(np.std(df['age']))         #standard deviation\n",
    "print(np.std(df['age']) / np.sqrt(len(df['age']))) #standard Error"
   ]
  },
  {
   "cell_type": "markdown",
   "metadata": {},
   "source": [
    "2. Median describes the central tendency best because it's a whole value and it represents the data well. Standard deviation is a good indicator for variance."
   ]
  },
  {
   "cell_type": "code",
   "execution_count": 3,
   "metadata": {},
   "outputs": [
    {
     "name": "stdout",
     "output_type": "stream",
     "text": [
      "     name  age\n",
      "0    Greg   14\n",
      "1  Marcia   12\n",
      "2   Peter   11\n",
      "3     Jan   10\n",
      "4   Bobby    8\n",
      "5   Cindy    7\n",
      "6  Oliver    8\n"
     ]
    }
   ],
   "source": [
    "df.loc[5, 'age'] = 7 #cindy had a birthday"
   ]
  },
  {
   "cell_type": "code",
   "execution_count": 4,
   "metadata": {},
   "outputs": [
    {
     "name": "stdout",
     "output_type": "stream",
     "text": [
      "10.0\n",
      "10.0\n",
      "8\n",
      "6.333333333333333\n",
      "2.32992949004287\n",
      "0.880630571853\n"
     ]
    }
   ],
   "source": [
    "print(np.mean(df['age']))        #average\n",
    "print(np.median(df['age']))      #median\n",
    "print(statistics.mode(df['age']))#mode\n",
    "print(df['age'].var())           #variance\n",
    "print(np.std(df['age']))         #standard deviation\n",
    "print(np.std(df['age']) / np.sqrt(len(df['age']))) #standard Error"
   ]
  },
  {
   "cell_type": "markdown",
   "metadata": {},
   "source": [
    "Not much changed."
   ]
  },
  {
   "cell_type": "code",
   "execution_count": 5,
   "metadata": {
    "collapsed": true
   },
   "outputs": [],
   "source": [
    "df.loc[6, 'name'] = 'Jessica'\n",
    "df.loc[6, 'age'] = 1"
   ]
  },
  {
   "cell_type": "code",
   "execution_count": 6,
   "metadata": {},
   "outputs": [
    {
     "name": "stdout",
     "output_type": "stream",
     "text": [
      "9.0\n",
      "10.0\n",
      "No mode found\n",
      "18.0\n",
      "3.927922024247863\n",
      "1.48461497792\n"
     ]
    }
   ],
   "source": [
    "print(np.mean(df['age']))        #average\n",
    "print(np.median(df['age']))      #median\n",
    "print(\"No mode found\")           #mode\n",
    "print(df['age'].var())           #variance\n",
    "print(np.std(df['age']))         #standard deviation\n",
    "print(np.std(df['age']) / np.sqrt(len(df['age']))) #standard Error"
   ]
  },
  {
   "cell_type": "markdown",
   "metadata": {},
   "source": [
    "Our average isn't a good indicator because of the new outlier, use median."
   ]
  },
  {
   "cell_type": "markdown",
   "metadata": {
    "collapsed": true
   },
   "source": [
    "SciPhi Fanatic is a special interest magazine. Whereas the others are more general and represent\n",
    "a better sample so averaging those we get 20%"
   ]
  },
  {
   "cell_type": "code",
   "execution_count": null,
   "metadata": {
    "collapsed": true
   },
   "outputs": [],
   "source": []
  }
 ],
 "metadata": {
  "kernelspec": {
   "display_name": "Python 3",
   "language": "python",
   "name": "python3"
  },
  "language_info": {
   "codemirror_mode": {
    "name": "ipython",
    "version": 3
   },
   "file_extension": ".py",
   "mimetype": "text/x-python",
   "name": "python",
   "nbconvert_exporter": "python",
   "pygments_lexer": "ipython3",
   "version": "3.6.3"
  }
 },
 "nbformat": 4,
 "nbformat_minor": 2
}
